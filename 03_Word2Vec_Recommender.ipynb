{
 "cells": [
  {
   "cell_type": "markdown",
   "metadata": {},
   "source": [
    "## Import Packages"
   ]
  },
  {
   "cell_type": "code",
   "execution_count": 2,
   "metadata": {},
   "outputs": [
    {
     "name": "stdout",
     "output_type": "stream",
     "text": [
      "Collecting gensim\n",
      "  Downloading gensim-3.8.3-cp38-cp38-manylinux1_x86_64.whl (24.2 MB)\n",
      "\u001b[K     |████████████████████████████████| 24.2 MB 1.0 MB/s eta 0:00:01\n",
      "\u001b[?25hRequirement already satisfied: numpy>=1.11.3 in /home/grant/anaconda3/lib/python3.8/site-packages (from gensim) (1.18.5)\n",
      "Requirement already satisfied: scipy>=0.18.1 in /home/grant/anaconda3/lib/python3.8/site-packages (from gensim) (1.4.1)\n",
      "Requirement already satisfied: six>=1.5.0 in /home/grant/anaconda3/lib/python3.8/site-packages (from gensim) (1.15.0)\n",
      "Collecting smart-open>=1.8.1\n",
      "  Downloading smart_open-3.0.0.tar.gz (113 kB)\n",
      "\u001b[K     |████████████████████████████████| 113 kB 24.4 MB/s eta 0:00:01\n",
      "\u001b[?25hRequirement already satisfied: requests in /home/grant/anaconda3/lib/python3.8/site-packages (from smart-open>=1.8.1->gensim) (2.24.0)\n",
      "Requirement already satisfied: certifi>=2017.4.17 in /home/grant/anaconda3/lib/python3.8/site-packages (from requests->smart-open>=1.8.1->gensim) (2020.6.20)\n",
      "Requirement already satisfied: chardet<4,>=3.0.2 in /home/grant/anaconda3/lib/python3.8/site-packages (from requests->smart-open>=1.8.1->gensim) (3.0.4)\n",
      "Requirement already satisfied: urllib3!=1.25.0,!=1.25.1,<1.26,>=1.21.1 in /home/grant/anaconda3/lib/python3.8/site-packages (from requests->smart-open>=1.8.1->gensim) (1.25.9)\n",
      "Requirement already satisfied: idna<3,>=2.5 in /home/grant/anaconda3/lib/python3.8/site-packages (from requests->smart-open>=1.8.1->gensim) (2.10)\n",
      "Building wheels for collected packages: smart-open\n",
      "  Building wheel for smart-open (setup.py) ... \u001b[?25ldone\n",
      "\u001b[?25h  Created wheel for smart-open: filename=smart_open-3.0.0-py3-none-any.whl size=107097 sha256=275fda189e5cbc1b9c0b50d75074da1c91d87b30d81af382627a84278b7cc624\n",
      "  Stored in directory: /home/grant/.cache/pip/wheels/11/73/9a/f91ac1f1816436b16423617c5be5db048697ff152a9c4346f2\n",
      "Successfully built smart-open\n",
      "Installing collected packages: smart-open, gensim\n",
      "Successfully installed gensim-3.8.3 smart-open-3.0.0\n"
     ]
    }
   ],
   "source": [
    "!pip install gensim"
   ]
  },
  {
   "cell_type": "code",
   "execution_count": 1,
   "metadata": {},
   "outputs": [],
   "source": [
    "import pandas as pd\n",
    "import numpy as np\n",
    "import matplotlib.pyplot as plt\n",
    "\n",
    "import spotipy\n",
    "\n",
    "import json\n",
    "import gensim\n",
    "from operator import itemgetter\n",
    "\n",
    "import sqlite3\n",
    "import creds"
   ]
  },
  {
   "cell_type": "markdown",
   "metadata": {},
   "source": [
    "## Define Functions"
   ]
  },
  {
   "cell_type": "code",
   "execution_count": 2,
   "metadata": {},
   "outputs": [],
   "source": [
    "def find_song(song_name, limit=20):\n",
    "    c = conn.cursor()\n",
    "    c.execute(\"SELECT * FROM songs WHERE UPPER(name) LIKE '%\" + song_name + \"%'\")\n",
    "    res = sorted(((x, model.wv.vocab[x[0]].count) \n",
    "                  for x in c.fetchall() if x[0] in model.wv.vocab), key=itemgetter(-1), reverse = True)\n",
    "    return [*res][:limit]"
   ]
  },
  {
   "cell_type": "code",
   "execution_count": 3,
   "metadata": {},
   "outputs": [],
   "source": [
    "def suggest_songs(song_id):\n",
    "    c = conn.cursor()\n",
    "    similar = dict(model.wv.most_similar([song_id], topn = 25))\n",
    "    song_ids = ', '.join((\"'%s'\" % x) for x in similar.keys())\n",
    "    c.execute(\"SELECT * FROM songs WHERE id in (%s)\" % song_ids)\n",
    "    res = sorted((rec + (similar[rec[0]],) for rec in c.fetchall()), \n",
    "                 key=itemgetter(-1),\n",
    "                 reverse=True)\n",
    "    for i in res:\n",
    "        print(i)\n",
    "        \n",
    "    return list(similar)"
   ]
  },
  {
   "cell_type": "markdown",
   "metadata": {},
   "source": [
    "## Class to Split Tracks"
   ]
  },
  {
   "cell_type": "code",
   "execution_count": 4,
   "metadata": {},
   "outputs": [],
   "source": [
    "# Create a class for breaking up model vocab\n",
    "class WordSplitter(object):\n",
    "    def __init__(self, filename):\n",
    "        self.filename = filename\n",
    " \n",
    "    def __iter__(self):\n",
    "        with open(self.filename) as fin:\n",
    "            for line in fin:\n",
    "                yield line.split()"
   ]
  },
  {
   "cell_type": "markdown",
   "metadata": {},
   "source": [
    "## Instantiate Word2Vec Model"
   ]
  },
  {
   "cell_type": "code",
   "execution_count": 7,
   "metadata": {
    "scrolled": true
   },
   "outputs": [],
   "source": [
    "# Load Pre-trained model\n",
    "model = gensim.models.word2vec.Word2Vec.load(\"data/word2vec.model\")"
   ]
  },
  {
   "cell_type": "code",
   "execution_count": 5,
   "metadata": {},
   "outputs": [],
   "source": [
    "# Instantiate Word2Vec model with songs\n",
    "model = gensim.models.Word2Vec(WordSplitter(\"data/songs_ids.txt\"), min_count = 100)"
   ]
  },
  {
   "cell_type": "code",
   "execution_count": 6,
   "metadata": {},
   "outputs": [],
   "source": [
    "# Save Model\n",
    "model.save(\"data/word2vec.model\")"
   ]
  },
  {
   "cell_type": "markdown",
   "metadata": {},
   "source": [
    "## Track Identification and Recommendation"
   ]
  },
  {
   "cell_type": "code",
   "execution_count": 8,
   "metadata": {},
   "outputs": [
    {
     "name": "stdout",
     "output_type": "stream",
     "text": [
      "('7vidktgNZFQylTgH1GEnMs', 'Cold as Ice', 'Foreigner') 5220\n",
      "('3iM9wFGlyR28IBZrXYZK9j', 'Cold as Ice - 2008 Remaster', 'Foreigner') 1484\n",
      "('5jfF26NIqQV3DXMOVgqEli', 'Cold as Stone', 'Kaskade') 884\n",
      "('493CPxYEHHzXeSdnp8Ul73', 'Cold as Ice', 'M.O.P.') 742\n",
      "('6chZg1OMXz9VN3MQCr4cNf', 'Cold as Stone - Lipless Remix', 'Kaskade') 553\n",
      "('6ssiAA2WAtdTgV9WAORq6w', 'As Cold as Ice - F Noizer mix', 'HCMF') 429\n",
      "('67rvuV6oRGppOyXZk9OUrs', \"Cold as Stone - Kaskade's Sunsoaked Mix\", 'Kaskade') 361\n",
      "('7an1exwMnfYRcdVQm0yDev', 'Cold As You', 'Taylor Swift') 358\n",
      "('5apjl9HKCy9HTHQFivcsOe', 'Cold as Ice', 'Blacklite District') 279\n",
      "('7rMBg2BQeWk6O7SblbK53z', 'Cold As Ice', 'Starsplash') 237\n",
      "('7n5d0YesAmy7qlOMhuxzft', 'Cold As Ice (Jumpstyle Edit)', 'Starsplash') 213\n",
      "('5KirH5QuyG2cybx3fOURIG', 'Cold as Ice', 'Foreigner') 161\n",
      "('5kPxpQM1fhfi0L0PULZ4wA', 'Cold as Ice', 'M.O.P.') 158\n",
      "('7IWV29mryrqtO0JVgnPtfv', 'Cold As You', 'Luke Combs') 146\n",
      "('569sXXQ7t0jSdqHooi2yqs', 'Cold As You', 'Taylor Swift') 126\n",
      "('5w5R9ShCe6pwiTsaX7HjCm', 'Cold as Ice', 'Bekon') 118\n",
      "('1ai4tCk7VbSvrWM0RAyhi2', 'Cold as Ice', 'Foreigner') 101\n"
     ]
    }
   ],
   "source": [
    "# Connect to the database of songs and find frequency for tracks\n",
    "conn = sqlite3.connect('data/songs.db')\n",
    "\n",
    "for t in find_song('cold as'):\n",
    "    print(*t)"
   ]
  },
  {
   "cell_type": "code",
   "execution_count": 9,
   "metadata": {},
   "outputs": [
    {
     "name": "stdout",
     "output_type": "stream",
     "text": [
      "('3PwtBxiuJGVGHFfHjOjTpY', 'My Kinda Folk', 'Luke Combs', 0.9904252886772156)\n",
      "('0jcZ1uIHmvh6Is9T6hXOUk', 'The Other Guy', 'Luke Combs', 0.9880845546722412)\n",
      "('3zxAw8PaqpeGZ3Pakkxv3J', 'Without You', 'Luke Combs', 0.9818929433822632)\n",
      "('4QhFrBkJ3Rqx66Xs8xwH8o', 'If It Wasn’t For Trucks', 'Riley Green', 0.9640644192695618)\n",
      "('0nGXi46VcQQ56ZJR428MKS', 'Does To Me (feat. Eric Church)', 'Luke Combs', 0.9440213441848755)\n",
      "('21HxYsyuuXZNqB1Dme5PQN', 'Wildfire', 'Nate Smith', 0.9431775212287903)\n",
      "('6ywiHcxaHBR39gRhud37XK', \"Young Man's Blues\", 'Parker McCollum', 0.9358137249946594)\n",
      "('3YuvAPidBWldqjagOryo40', 'I Called Mama', 'Tim McGraw', 0.9280024170875549)\n",
      "('5nra2uQhiaYKKpemgiDNC3', 'GIVE HEAVEN SOME HELL', 'HARDY', 0.9275608658790588)\n",
      "('0eBXyY4SatzpE7opnzgXvz', 'More Than My Hometown', 'Morgan Wallen', 0.925216019153595)\n",
      "('5v6gozUHFv9OoNdFYz6p8V', 'Six Feet Apart', 'Luke Combs', 0.9215282201766968)\n",
      "('34slXA5D75T5S0dwYYRd4J', 'Without You', 'Luke Combs', 0.9203657507896423)\n",
      "('47qZzTLLJcuD69AIKnquo4', 'One Night Standards', 'Ashley McBryde', 0.9184627532958984)\n",
      "('3dV1fjKOlLnaNK5MeZHXGv', 'Cold Beer Calling My Name', 'Jameson Rodgers', 0.9164940714836121)\n",
      "('1irAliF0T8sLIOPJp6n7rU', 'Single Saturday Night', 'Cole Swindell', 0.913243293762207)\n",
      "('5blHL2xSCGv00fr1DGuvEf', 'I Love My Country', 'Florida Georgia Line', 0.912553608417511)\n",
      "('2DwbFtfC6sXBiVDPmju8Dd', 'Happy Anywhere (feat. Gwen Stefani)', 'Blake Shelton', 0.9105891585350037)\n",
      "('16kqEZBfhhK8XlQpauKej1', 'I Love My Country', 'Florida Georgia Line', 0.909660816192627)\n",
      "('14JFKtBSqefxfMiKhq6JT8', 'Almost Maybes', 'Jordan Davis', 0.9091763496398926)\n",
      "('36ISlLb12gKuCCVTYXC0gb', 'Beers And Sunshine', 'Darius Rucker', 0.9085825681686401)\n",
      "('1OTX8FOeKJt1v9mIxuF8sc', 'Long Live', 'Florida Georgia Line', 0.9082151651382446)\n",
      "('3746VOqCr3ys3lQdhmDoyH', 'This Bar', 'Morgan Wallen', 0.9061458110809326)\n",
      "('5lH14PEjAXYuMTz0Dd4L1D', 'Stick That In Your Country Song', 'Eric Church', 0.9032320976257324)\n",
      "('0nYvjcSlCgjcwogQAwIwNp', \"Lovin' On You\", 'Luke Combs', 0.9028540253639221)\n",
      "('6QD7xOu1N8s2NVOKqn6je8', 'ABBY', 'Travis Denning', 0.9010549783706665)\n"
     ]
    }
   ],
   "source": [
    "# Suggest songs\n",
    "rec_tracks = suggest_songs('7IWV29mryrqtO0JVgnPtfv')"
   ]
  },
  {
   "cell_type": "markdown",
   "metadata": {},
   "source": [
    "## Create Recommended Playlists"
   ]
  },
  {
   "cell_type": "code",
   "execution_count": 13,
   "metadata": {},
   "outputs": [],
   "source": [
    "# Create Spotify Session\n",
    "session = creds.session"
   ]
  },
  {
   "cell_type": "code",
   "execution_count": 14,
   "metadata": {},
   "outputs": [
    {
     "data": {
      "text/plain": [
       "{'snapshot_id': 'MywyMmEzMTdiZGUyYjU4YjQzNTJkMzk5ZmM0OWQ2ODJhYWM3NGNhM2Q1'}"
      ]
     },
     "execution_count": 14,
     "metadata": {},
     "output_type": "execute_result"
    }
   ],
   "source": [
    "# Create New Playlist\n",
    "playlist_details = session.user_playlist_create(user = creds.user_id,\n",
    "                                                name = \"Somewhat Omniscient Neuropath Generator\")\n",
    "\n",
    "# Add Tracks to new playlist\n",
    "session.user_playlist_add_tracks(user = creds.user_id, \n",
    "                                 playlist_id = playlist_details[\"id\"],\n",
    "                                 tracks = rec_tracks)"
   ]
  }
 ],
 "metadata": {
  "kernelspec": {
   "display_name": "Python 3",
   "language": "python",
   "name": "python3"
  },
  "language_info": {
   "codemirror_mode": {
    "name": "ipython",
    "version": 3
   },
   "file_extension": ".py",
   "mimetype": "text/x-python",
   "name": "python",
   "nbconvert_exporter": "python",
   "pygments_lexer": "ipython3",
   "version": "3.8.3"
  }
 },
 "nbformat": 4,
 "nbformat_minor": 2
}
